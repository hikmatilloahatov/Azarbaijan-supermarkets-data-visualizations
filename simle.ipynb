{
 "cells": [
  {
   "cell_type": "code",
   "execution_count": 1,
   "id": "3ad86eb0-b51d-49cc-a63e-a0a1ab2b82ec",
   "metadata": {},
   "outputs": [
    {
     "name": "stdout",
     "output_type": "stream",
     "text": [
      "Installing /home/hikmatillo/anaconda3/envs/yangi_muhit/lib/python3.9/site-packages/keplergl/static -> keplergl-jupyter\n",
      "Up to date: /home/hikmatillo/anaconda3/envs/yangi_muhit/share/jupyter/nbextensions/keplergl-jupyter/index.js.map\n",
      "Up to date: /home/hikmatillo/anaconda3/envs/yangi_muhit/share/jupyter/nbextensions/keplergl-jupyter/extension.js.map\n",
      "Up to date: /home/hikmatillo/anaconda3/envs/yangi_muhit/share/jupyter/nbextensions/keplergl-jupyter/extension.js\n",
      "Up to date: /home/hikmatillo/anaconda3/envs/yangi_muhit/share/jupyter/nbextensions/keplergl-jupyter/keplergl.html\n",
      "Up to date: /home/hikmatillo/anaconda3/envs/yangi_muhit/share/jupyter/nbextensions/keplergl-jupyter/main.js\n",
      "Up to date: /home/hikmatillo/anaconda3/envs/yangi_muhit/share/jupyter/nbextensions/keplergl-jupyter/index.js\n",
      "- Validating: \u001b[32mOK\u001b[0m\n",
      "\n",
      "    To initialize this nbextension in the browser every time the notebook (or other app) loads:\n",
      "    \n",
      "          jupyter nbextension enable keplergl --py --sys-prefix\n",
      "    \n",
      "Enabling notebook extension keplergl-jupyter/extension...\n",
      "      - Validating: \u001b[32mOK\u001b[0m\n"
     ]
    }
   ],
   "source": [
    "!jupyter nbextension install --py --sys-prefix keplergl # can be skipped for notebook 5.3 and above\n",
    "!jupyter nbextension enable --py --sys-prefix keplergl # can be skipped for notebook 5.3 and above"
   ]
  },
  {
   "cell_type": "code",
   "execution_count": 4,
   "id": "288dd6c1-7c0f-44ce-8d08-03f6fd0aef71",
   "metadata": {},
   "outputs": [
    {
     "name": "stdout",
     "output_type": "stream",
     "text": [
      "User Guide: https://docs.kepler.gl/docs/keplergl-jupyter\n"
     ]
    },
    {
     "data": {
      "application/vnd.jupyter.widget-view+json": {
       "model_id": "744569df84a14612aecebfbdf6bb1521",
       "version_major": 2,
       "version_minor": 0
      },
      "text/plain": [
       "KeplerGl()"
      ]
     },
     "metadata": {},
     "output_type": "display_data"
    }
   ],
   "source": [
    "from keplergl import KeplerGl\n",
    "q = KeplerGl()\n",
    "q"
   ]
  },
  {
   "cell_type": "code",
   "execution_count": null,
   "id": "6d86962f-d897-42a9-bb77-23758affc553",
   "metadata": {},
   "outputs": [],
   "source": []
  }
 ],
 "metadata": {
  "kernelspec": {
   "display_name": "Python 3 (ipykernel)",
   "language": "python",
   "name": "python3"
  },
  "language_info": {
   "codemirror_mode": {
    "name": "ipython",
    "version": 3
   },
   "file_extension": ".py",
   "mimetype": "text/x-python",
   "name": "python",
   "nbconvert_exporter": "python",
   "pygments_lexer": "ipython3",
   "version": "3.9.7"
  }
 },
 "nbformat": 4,
 "nbformat_minor": 5
}
